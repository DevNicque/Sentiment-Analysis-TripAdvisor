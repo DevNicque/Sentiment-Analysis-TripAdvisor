{
  "nbformat": 4,
  "nbformat_minor": 0,
  "metadata": {
    "colab": {
      "name": "Analise-sentimentos-TripAdvisor.ipynb",
      "provenance": [],
      "collapsed_sections": [],
      "toc_visible": true,
      "include_colab_link": true
    },
    "kernelspec": {
      "display_name": "Python 3",
      "name": "python3"
    }
  },
  "cells": [
    {
      "cell_type": "markdown",
      "metadata": {
        "id": "view-in-github",
        "colab_type": "text"
      },
      "source": [
        "<a href=\"https://colab.research.google.com/github/kidkmon/Sentiment-Analysis-TripAdvisor/blob/main/Analise_sentimentos_TripAdvisor.ipynb\" target=\"_parent\"><img src=\"https://colab.research.google.com/assets/colab-badge.svg\" alt=\"Open In Colab\"/></a>"
      ]
    },
    {
      "cell_type": "markdown",
      "metadata": {
        "id": "HW1QrJad-LVe"
      },
      "source": [
        "# Configurações"
      ]
    },
    {
      "cell_type": "code",
      "metadata": {
        "id": "zjJOS9uHPyp4"
      },
      "source": [
        "from google.colab import drive # monta ambiente para salvar dados gerados no notebook\n",
        "\n",
        "import pandas as pd # biblioteca para processamento dos dados\n",
        "from pandas import json_normalize # realiza a normalização de campos do tipo json no dataframe\n",
        "import numpy as np # biblioteca de algebra linear\n",
        "\n",
        "import urllib.request # biblioteca que trabalha com requisições HTTP\n",
        "import json # biblioteca para processamento de dados do tipo JSON\n",
        "\n",
        "import matplotlib.pyplot as plt # biblioteca para plotagem de gráficos"
      ],
      "execution_count": 126,
      "outputs": []
    },
    {
      "cell_type": "code",
      "metadata": {
        "colab": {
          "base_uri": "https://localhost:8080/"
        },
        "id": "jlwf6ZZf_81R",
        "outputId": "70451aeb-4642-40fc-82ee-0e220cbb8892"
      },
      "source": [
        "# Versão das bibliotecas utilizadas\n",
        "\n",
        "!python --version\n",
        "print(\"Pandas\", pd.__version__)\n",
        "print(\"Numpy\", np.__version__)\n"
      ],
      "execution_count": 127,
      "outputs": [
        {
          "output_type": "stream",
          "text": [
            "Python 3.6.9\n",
            "Pandas 1.1.4\n",
            "Numpy 1.18.5\n"
          ],
          "name": "stdout"
        }
      ]
    },
    {
      "cell_type": "markdown",
      "metadata": {
        "id": "sbq3pvX_Rv9e"
      },
      "source": [
        "# Processamento de dados"
      ]
    },
    {
      "cell_type": "code",
      "metadata": {
        "id": "9HHmBOam-2TE"
      },
      "source": [
        "def load_data(url, encoding=\"utf-8\"):\n",
        "  dat_file = urllib.request.urlopen(url)\n",
        "\n",
        "  json_format_file = [json.loads(line) for line in dat_file]\n",
        "\n",
        "  df = pd.DataFrame(json_format_file)\n",
        "  \n",
        "  return df"
      ],
      "execution_count": 128,
      "outputs": []
    },
    {
      "cell_type": "code",
      "metadata": {
        "id": "03cN_LQA-IZw",
        "colab": {
          "base_uri": "https://localhost:8080/",
          "height": 493
        },
        "outputId": "79d99e4c-5da5-4375-9ec5-e6f11a7e0d6c"
      },
      "source": [
        "df = load_data(url=\"http://tiagodemelo.info/datasets/dataset-v2.dat\")\n",
        "df.head()"
      ],
      "execution_count": 129,
      "outputs": [
        {
          "output_type": "execute_result",
          "data": {
            "text/html": [
              "<div>\n",
              "<style scoped>\n",
              "    .dataframe tbody tr th:only-of-type {\n",
              "        vertical-align: middle;\n",
              "    }\n",
              "\n",
              "    .dataframe tbody tr th {\n",
              "        vertical-align: top;\n",
              "    }\n",
              "\n",
              "    .dataframe thead th {\n",
              "        text-align: right;\n",
              "    }\n",
              "</style>\n",
              "<table border=\"1\" class=\"dataframe\">\n",
              "  <thead>\n",
              "    <tr style=\"text-align: right;\">\n",
              "      <th></th>\n",
              "      <th>title</th>\n",
              "      <th>reviewId</th>\n",
              "      <th>restaurantId</th>\n",
              "      <th>author</th>\n",
              "      <th>reviewBody</th>\n",
              "      <th>language</th>\n",
              "      <th>mobileDevice</th>\n",
              "      <th>userLocation</th>\n",
              "      <th>publicationDate</th>\n",
              "      <th>visitDate</th>\n",
              "      <th>ratingValue</th>\n",
              "      <th>itemReviewed</th>\n",
              "    </tr>\n",
              "  </thead>\n",
              "  <tbody>\n",
              "    <tr>\n",
              "      <th>0</th>\n",
              "      <td>Jantar</td>\n",
              "      <td>692856288</td>\n",
              "      <td>2344932</td>\n",
              "      <td>larinhavercosa222</td>\n",
              "      <td>Comida maravilhosa, lugar do verdadeiro chicle...</td>\n",
              "      <td>pt</td>\n",
              "      <td>True</td>\n",
              "      <td>São Carlos, SP</td>\n",
              "      <td>26/07/2019</td>\n",
              "      <td>07/2019</td>\n",
              "      <td>5</td>\n",
              "      <td>{'name': 'Imperador dos Camarões', 'address': ...</td>\n",
              "    </tr>\n",
              "    <tr>\n",
              "      <th>1</th>\n",
              "      <td>Uma boa experiência.</td>\n",
              "      <td>229208487</td>\n",
              "      <td>3720906</td>\n",
              "      <td>Pano P</td>\n",
              "      <td>Comida boa, drinks legais e um ambiente bem ac...</td>\n",
              "      <td>pt</td>\n",
              "      <td>True</td>\n",
              "      <td>Manaus, AM</td>\n",
              "      <td>16/09/2014</td>\n",
              "      <td>None</td>\n",
              "      <td>4</td>\n",
              "      <td>{'name': 'Guacamole Natal', 'address': {'stree...</td>\n",
              "    </tr>\n",
              "    <tr>\n",
              "      <th>2</th>\n",
              "      <td>Otimo self service</td>\n",
              "      <td>679002332</td>\n",
              "      <td>2248105</td>\n",
              "      <td>Magma100</td>\n",
              "      <td>Excelente pra ir com a família! Ótima Comida, ...</td>\n",
              "      <td>pt</td>\n",
              "      <td>True</td>\n",
              "      <td>Goiânia, GO</td>\n",
              "      <td>04/06/2019</td>\n",
              "      <td>07/2018</td>\n",
              "      <td>4</td>\n",
              "      <td>{'name': 'Chica Pitanga', 'address': {'streetA...</td>\n",
              "    </tr>\n",
              "    <tr>\n",
              "      <th>3</th>\n",
              "      <td>O sorvete mais tradicional do estado</td>\n",
              "      <td>355671519</td>\n",
              "      <td>8168302</td>\n",
              "      <td>Yurie M</td>\n",
              "      <td>Tomo sorvete na Visabor faz mais de 30 anos. S...</td>\n",
              "      <td>pt</td>\n",
              "      <td>False</td>\n",
              "      <td>Aracaju, SE</td>\n",
              "      <td>15/03/2016</td>\n",
              "      <td>01/2016</td>\n",
              "      <td>5</td>\n",
              "      <td>{'name': 'Sorvetes Vi Sabor', 'address': {'str...</td>\n",
              "    </tr>\n",
              "    <tr>\n",
              "      <th>4</th>\n",
              "      <td>Melhor hamburger!</td>\n",
              "      <td>268741921</td>\n",
              "      <td>5395141</td>\n",
              "      <td>Debora_C85</td>\n",
              "      <td>O melhor hamburger que já comi! Excelente aten...</td>\n",
              "      <td>pt</td>\n",
              "      <td>False</td>\n",
              "      <td>Rio de Janeiro, RJ</td>\n",
              "      <td>28/04/2015</td>\n",
              "      <td>04/2015</td>\n",
              "      <td>5</td>\n",
              "      <td>{'name': 'Z Deli Sandwich Shop', 'address': {'...</td>\n",
              "    </tr>\n",
              "  </tbody>\n",
              "</table>\n",
              "</div>"
            ],
            "text/plain": [
              "                                  title  ...                                       itemReviewed\n",
              "0                               Jantar   ...  {'name': 'Imperador dos Camarões', 'address': ...\n",
              "1                  Uma boa experiência.  ...  {'name': 'Guacamole Natal', 'address': {'stree...\n",
              "2                    Otimo self service  ...  {'name': 'Chica Pitanga', 'address': {'streetA...\n",
              "3  O sorvete mais tradicional do estado  ...  {'name': 'Sorvetes Vi Sabor', 'address': {'str...\n",
              "4                     Melhor hamburger!  ...  {'name': 'Z Deli Sandwich Shop', 'address': {'...\n",
              "\n",
              "[5 rows x 12 columns]"
            ]
          },
          "metadata": {
            "tags": []
          },
          "execution_count": 129
        }
      ]
    },
    {
      "cell_type": "markdown",
      "metadata": {
        "id": "OzKpHsiwnq8g"
      },
      "source": [
        "## Limpeza dos dados"
      ]
    },
    {
      "cell_type": "code",
      "metadata": {
        "id": "1-S2fFHiORC4",
        "colab": {
          "base_uri": "https://localhost:8080/"
        },
        "outputId": "d3ac9aea-59b1-4198-f604-ef62f440b2d8"
      },
      "source": [
        "df.info()"
      ],
      "execution_count": 130,
      "outputs": [
        {
          "output_type": "stream",
          "text": [
            "<class 'pandas.core.frame.DataFrame'>\n",
            "RangeIndex: 100000 entries, 0 to 99999\n",
            "Data columns (total 12 columns):\n",
            " #   Column           Non-Null Count   Dtype \n",
            "---  ------           --------------   ----- \n",
            " 0   title            100000 non-null  object\n",
            " 1   reviewId         100000 non-null  object\n",
            " 2   restaurantId     99999 non-null   object\n",
            " 3   author           99999 non-null   object\n",
            " 4   reviewBody       99999 non-null   object\n",
            " 5   language         100000 non-null  object\n",
            " 6   mobileDevice     100000 non-null  object\n",
            " 7   userLocation     100000 non-null  object\n",
            " 8   publicationDate  100000 non-null  object\n",
            " 9   visitDate        100000 non-null  object\n",
            " 10  ratingValue      100000 non-null  object\n",
            " 11  itemReviewed     100000 non-null  object\n",
            "dtypes: object(12)\n",
            "memory usage: 9.2+ MB\n"
          ],
          "name": "stdout"
        }
      ]
    },
    {
      "cell_type": "markdown",
      "metadata": {
        "id": "hTc5vzvtoChi"
      },
      "source": [
        "A partir das informações iniciais pode-se concluir que há dados faltantes na base de dados. Os campos que não possuem dados completos são: **restaurantId**, **author** e **reviewBody**.\n"
      ]
    },
    {
      "cell_type": "markdown",
      "metadata": {
        "id": "O2Q28xKro27W"
      },
      "source": [
        "## Remoção de colunas no dataset\n",
        "\n",
        "Algumas colunas não irão exercer impacto durante a análise de dados, logo, optou-se por removê-las. Estas são: **reviewId**, **restaurantId**, **author** e **visitDate**."
      ]
    },
    {
      "cell_type": "code",
      "metadata": {
        "id": "xljkfAVBn_LM"
      },
      "source": [
        "columns = [\"reviewId\", \"restaurantId\", \"author\", \"visitDate\"]\n",
        "\n",
        "df.drop(columns=columns, inplace=True)"
      ],
      "execution_count": 131,
      "outputs": []
    },
    {
      "cell_type": "markdown",
      "metadata": {
        "id": "ndwV6jsqrFvy"
      },
      "source": [
        "Com a remoção de 3 colunas no conjunto de dados, nota-se que o **reviewBody** possui informações faltantes. Visto que esse campo é um dos mais importantes para a conclusão da análise de dados, optou-se por remover essa informação da base. "
      ]
    },
    {
      "cell_type": "code",
      "metadata": {
        "id": "ECoTD64rqrwM"
      },
      "source": [
        "df.dropna(inplace=True)"
      ],
      "execution_count": 132,
      "outputs": []
    },
    {
      "cell_type": "code",
      "metadata": {
        "colab": {
          "base_uri": "https://localhost:8080/"
        },
        "id": "qrbjpD5MuzOv",
        "outputId": "8608fe78-adef-40f2-c78e-5ded446dd23f"
      },
      "source": [
        "df.info()"
      ],
      "execution_count": 133,
      "outputs": [
        {
          "output_type": "stream",
          "text": [
            "<class 'pandas.core.frame.DataFrame'>\n",
            "Int64Index: 99999 entries, 0 to 99999\n",
            "Data columns (total 8 columns):\n",
            " #   Column           Non-Null Count  Dtype \n",
            "---  ------           --------------  ----- \n",
            " 0   title            99999 non-null  object\n",
            " 1   reviewBody       99999 non-null  object\n",
            " 2   language         99999 non-null  object\n",
            " 3   mobileDevice     99999 non-null  object\n",
            " 4   userLocation     99999 non-null  object\n",
            " 5   publicationDate  99999 non-null  object\n",
            " 6   ratingValue      99999 non-null  object\n",
            " 7   itemReviewed     99999 non-null  object\n",
            "dtypes: object(8)\n",
            "memory usage: 6.9+ MB\n"
          ],
          "name": "stdout"
        }
      ]
    },
    {
      "cell_type": "markdown",
      "metadata": {
        "id": "dV9ED7P3vf6G"
      },
      "source": [
        "Agora todo o conjunto de dados possui 99.999 dados sobre revisões de restaurantes e 8 colunas."
      ]
    },
    {
      "cell_type": "markdown",
      "metadata": {
        "id": "uFFUBq2XwXF2"
      },
      "source": [
        "## Criação de novas colunas para a análise\n"
      ]
    },
    {
      "cell_type": "markdown",
      "metadata": {
        "id": "rT1Oefjaw77i"
      },
      "source": [
        "As informações das colunas **userLocation** e **itemReviewed** podem ser distribuídas em outras, facilitando, assim, a criação de novas visualizações de dados. \n",
        "\n",
        "A **userLocation** pode ser dividida em dados sobre a cidade e uma outra referente ao estado em que o usuário fez a revisão. "
      ]
    },
    {
      "cell_type": "code",
      "metadata": {
        "id": "rEGgBddow0Tm",
        "colab": {
          "base_uri": "https://localhost:8080/"
        },
        "outputId": "ec3e8acd-9754-4cf1-e224-6eaa920158af"
      },
      "source": [
        "## coluna userLocation\n",
        "\n",
        "df[\"userLocation\"]"
      ],
      "execution_count": 134,
      "outputs": [
        {
          "output_type": "execute_result",
          "data": {
            "text/plain": [
              "0            São Carlos, SP\n",
              "1                Manaus, AM\n",
              "2               Goiânia, GO\n",
              "3               Aracaju, SE\n",
              "4        Rio de Janeiro, RJ\n",
              "                ...        \n",
              "99995      Porto Alegre, RS\n",
              "99996         Cork, Irlanda\n",
              "99997         São Paulo, SP\n",
              "99998      Porto Alegre, RS\n",
              "99999            Manaus, AM\n",
              "Name: userLocation, Length: 99999, dtype: object"
            ]
          },
          "metadata": {
            "tags": []
          },
          "execution_count": 134
        }
      ]
    },
    {
      "cell_type": "code",
      "metadata": {
        "id": "Dry2sS9l2SeQ",
        "colab": {
          "base_uri": "https://localhost:8080/",
          "height": 289
        },
        "outputId": "681cd5f7-ae78-4171-ec26-cca3edcdac03"
      },
      "source": [
        "location = df[\"userLocation\"].str.split(\",\", n = 1, expand = True) \n",
        "\n",
        "df[\"userCity\"] = location[0]\n",
        "df[\"userState\"] = location[1]\n",
        "\n",
        "df.drop(columns=[\"userLocation\"], inplace=True)\n",
        "\n",
        "df.head()"
      ],
      "execution_count": 135,
      "outputs": [
        {
          "output_type": "execute_result",
          "data": {
            "text/html": [
              "<div>\n",
              "<style scoped>\n",
              "    .dataframe tbody tr th:only-of-type {\n",
              "        vertical-align: middle;\n",
              "    }\n",
              "\n",
              "    .dataframe tbody tr th {\n",
              "        vertical-align: top;\n",
              "    }\n",
              "\n",
              "    .dataframe thead th {\n",
              "        text-align: right;\n",
              "    }\n",
              "</style>\n",
              "<table border=\"1\" class=\"dataframe\">\n",
              "  <thead>\n",
              "    <tr style=\"text-align: right;\">\n",
              "      <th></th>\n",
              "      <th>title</th>\n",
              "      <th>reviewBody</th>\n",
              "      <th>language</th>\n",
              "      <th>mobileDevice</th>\n",
              "      <th>publicationDate</th>\n",
              "      <th>ratingValue</th>\n",
              "      <th>itemReviewed</th>\n",
              "      <th>userCity</th>\n",
              "      <th>userState</th>\n",
              "    </tr>\n",
              "  </thead>\n",
              "  <tbody>\n",
              "    <tr>\n",
              "      <th>0</th>\n",
              "      <td>Jantar</td>\n",
              "      <td>Comida maravilhosa, lugar do verdadeiro chicle...</td>\n",
              "      <td>pt</td>\n",
              "      <td>True</td>\n",
              "      <td>26/07/2019</td>\n",
              "      <td>5</td>\n",
              "      <td>{'name': 'Imperador dos Camarões', 'address': ...</td>\n",
              "      <td>São Carlos</td>\n",
              "      <td>SP</td>\n",
              "    </tr>\n",
              "    <tr>\n",
              "      <th>1</th>\n",
              "      <td>Uma boa experiência.</td>\n",
              "      <td>Comida boa, drinks legais e um ambiente bem ac...</td>\n",
              "      <td>pt</td>\n",
              "      <td>True</td>\n",
              "      <td>16/09/2014</td>\n",
              "      <td>4</td>\n",
              "      <td>{'name': 'Guacamole Natal', 'address': {'stree...</td>\n",
              "      <td>Manaus</td>\n",
              "      <td>AM</td>\n",
              "    </tr>\n",
              "    <tr>\n",
              "      <th>2</th>\n",
              "      <td>Otimo self service</td>\n",
              "      <td>Excelente pra ir com a família! Ótima Comida, ...</td>\n",
              "      <td>pt</td>\n",
              "      <td>True</td>\n",
              "      <td>04/06/2019</td>\n",
              "      <td>4</td>\n",
              "      <td>{'name': 'Chica Pitanga', 'address': {'streetA...</td>\n",
              "      <td>Goiânia</td>\n",
              "      <td>GO</td>\n",
              "    </tr>\n",
              "    <tr>\n",
              "      <th>3</th>\n",
              "      <td>O sorvete mais tradicional do estado</td>\n",
              "      <td>Tomo sorvete na Visabor faz mais de 30 anos. S...</td>\n",
              "      <td>pt</td>\n",
              "      <td>False</td>\n",
              "      <td>15/03/2016</td>\n",
              "      <td>5</td>\n",
              "      <td>{'name': 'Sorvetes Vi Sabor', 'address': {'str...</td>\n",
              "      <td>Aracaju</td>\n",
              "      <td>SE</td>\n",
              "    </tr>\n",
              "    <tr>\n",
              "      <th>4</th>\n",
              "      <td>Melhor hamburger!</td>\n",
              "      <td>O melhor hamburger que já comi! Excelente aten...</td>\n",
              "      <td>pt</td>\n",
              "      <td>False</td>\n",
              "      <td>28/04/2015</td>\n",
              "      <td>5</td>\n",
              "      <td>{'name': 'Z Deli Sandwich Shop', 'address': {'...</td>\n",
              "      <td>Rio de Janeiro</td>\n",
              "      <td>RJ</td>\n",
              "    </tr>\n",
              "  </tbody>\n",
              "</table>\n",
              "</div>"
            ],
            "text/plain": [
              "                                  title  ... userState\n",
              "0                               Jantar   ...        SP\n",
              "1                  Uma boa experiência.  ...        AM\n",
              "2                    Otimo self service  ...        GO\n",
              "3  O sorvete mais tradicional do estado  ...        SE\n",
              "4                     Melhor hamburger!  ...        RJ\n",
              "\n",
              "[5 rows x 9 columns]"
            ]
          },
          "metadata": {
            "tags": []
          },
          "execution_count": 135
        }
      ]
    },
    {
      "cell_type": "markdown",
      "metadata": {
        "id": "T-f9keDgx-zY"
      },
      "source": [
        "A **itemReviewed** possui muitas informações interessantes e que podem contribuir para uma análise mais completa. Esses dados são: \n",
        "\n",
        "*   **name**: Nome do restaurante;\n",
        "*   **address**: Endereço do restaurante;\n",
        "*   **website**: Endereço do site do restaurante;\n",
        "*   **email**: E-mail do restaurante;\n",
        "*   **phoneNumber**: Telefone do restaurante;\n",
        "*   **averageRating**: Média de avaliação do restaurante;\n",
        "\n",
        "\n",
        "Os campos website, email e phoneNumber serão utilizados nessa análise para saber se os estabelecimentos que possuem essas informações possuem maior probabilidade de terem pontuações maiores."
      ]
    },
    {
      "cell_type": "code",
      "metadata": {
        "id": "h7v4yUaMxY8p",
        "colab": {
          "base_uri": "https://localhost:8080/"
        },
        "outputId": "6798f516-affb-4c7e-db31-2fd8450bc47f"
      },
      "source": [
        "## coluna itemReviewed\n",
        "\n",
        "df[\"itemReviewed\"]"
      ],
      "execution_count": 136,
      "outputs": [
        {
          "output_type": "execute_result",
          "data": {
            "text/plain": [
              "0        {'name': 'Imperador dos Camarões', 'address': ...\n",
              "1        {'name': 'Guacamole Natal', 'address': {'stree...\n",
              "2        {'name': 'Chica Pitanga', 'address': {'streetA...\n",
              "3        {'name': 'Sorvetes Vi Sabor', 'address': {'str...\n",
              "4        {'name': 'Z Deli Sandwich Shop', 'address': {'...\n",
              "                               ...                        \n",
              "99995    {'name': 'Boteco Maestro', 'address': {'street...\n",
              "99996    {'name': 'Casa do Marquês', 'address': {'stree...\n",
              "99997    {'name': 'Rio Scenarium', 'address': {'streetA...\n",
              "99998    {'name': 'Celeiro', 'address': {'streetAddress...\n",
              "99999    {'name': 'Coco Bambu Manaus', 'address': {'str...\n",
              "Name: itemReviewed, Length: 99999, dtype: object"
            ]
          },
          "metadata": {
            "tags": []
          },
          "execution_count": 136
        }
      ]
    },
    {
      "cell_type": "code",
      "metadata": {
        "colab": {
          "base_uri": "https://localhost:8080/",
          "height": 343
        },
        "id": "1f3FlX5CJ_-o",
        "outputId": "f6fa5cad-3814-4b67-928a-2b778a2843a9"
      },
      "source": [
        "item_reviewed = json_normalize(df[\"itemReviewed\"])\n",
        "item_reviewed.head()"
      ],
      "execution_count": 137,
      "outputs": [
        {
          "output_type": "execute_result",
          "data": {
            "text/html": [
              "<div>\n",
              "<style scoped>\n",
              "    .dataframe tbody tr th:only-of-type {\n",
              "        vertical-align: middle;\n",
              "    }\n",
              "\n",
              "    .dataframe tbody tr th {\n",
              "        vertical-align: top;\n",
              "    }\n",
              "\n",
              "    .dataframe thead th {\n",
              "        text-align: right;\n",
              "    }\n",
              "</style>\n",
              "<table border=\"1\" class=\"dataframe\">\n",
              "  <thead>\n",
              "    <tr style=\"text-align: right;\">\n",
              "      <th></th>\n",
              "      <th>name</th>\n",
              "      <th>website</th>\n",
              "      <th>email</th>\n",
              "      <th>phoneNumber</th>\n",
              "      <th>averageRating</th>\n",
              "      <th>address.streetAddress</th>\n",
              "      <th>address.addressLocality</th>\n",
              "      <th>address.addressRegion</th>\n",
              "      <th>address.postalCode</th>\n",
              "      <th>address.country</th>\n",
              "    </tr>\n",
              "  </thead>\n",
              "  <tbody>\n",
              "    <tr>\n",
              "      <th>0</th>\n",
              "      <td>Imperador dos Camarões</td>\n",
              "      <td>http://www.imperadordoscamaroes.com.br</td>\n",
              "      <td>contato@imperadordoscamaroes.com.br</td>\n",
              "      <td>+55 82 3231-4134</td>\n",
              "      <td>4.5</td>\n",
              "      <td>Avenida Doutor Antônio Gouveia</td>\n",
              "      <td></td>\n",
              "      <td>Alagoas</td>\n",
              "      <td>57030-170</td>\n",
              "      <td>Brasil</td>\n",
              "    </tr>\n",
              "    <tr>\n",
              "      <th>1</th>\n",
              "      <td>Guacamole Natal</td>\n",
              "      <td>http://www.facebook.com/GuacamoleNatal</td>\n",
              "      <td>guacamolenatal@gmail.com</td>\n",
              "      <td>+55 84 3219-3646</td>\n",
              "      <td>4.5</td>\n",
              "      <td>Avenida Praia de Ponta Negra 9068 Ponta Negra</td>\n",
              "      <td></td>\n",
              "      <td>Rio Grande do Norte</td>\n",
              "      <td>59092-100</td>\n",
              "      <td>Brasil</td>\n",
              "    </tr>\n",
              "    <tr>\n",
              "      <th>2</th>\n",
              "      <td>Chica Pitanga</td>\n",
              "      <td>http://www.chicapitanga.com.br</td>\n",
              "      <td>chicapitanga@chicapitanga.com.br</td>\n",
              "      <td>+55 81 3334-8260</td>\n",
              "      <td>4.5</td>\n",
              "      <td>Rua Petrolina 19</td>\n",
              "      <td>Recife</td>\n",
              "      <td>Pernambuco</td>\n",
              "      <td>51021-250</td>\n",
              "      <td>Brasil</td>\n",
              "    </tr>\n",
              "    <tr>\n",
              "      <th>3</th>\n",
              "      <td>Sorvetes Vi Sabor</td>\n",
              "      <td>None</td>\n",
              "      <td>None</td>\n",
              "      <td>None</td>\n",
              "      <td>4.0</td>\n",
              "      <td>Avenida Francisco Porto 59 Grageru</td>\n",
              "      <td>Aracaju</td>\n",
              "      <td>Sergipe</td>\n",
              "      <td></td>\n",
              "      <td>Brasil</td>\n",
              "    </tr>\n",
              "    <tr>\n",
              "      <th>4</th>\n",
              "      <td>Z Deli Sandwich Shop</td>\n",
              "      <td>http://www.facebook.com/zdelisandwichshop/</td>\n",
              "      <td>None</td>\n",
              "      <td>551130830021</td>\n",
              "      <td>4.5</td>\n",
              "      <td>Rua Haddock Lobo 1386 Jardins</td>\n",
              "      <td>São Paulo</td>\n",
              "      <td>Estado de São Paulo</td>\n",
              "      <td>01414-002</td>\n",
              "      <td>Brasil</td>\n",
              "    </tr>\n",
              "  </tbody>\n",
              "</table>\n",
              "</div>"
            ],
            "text/plain": [
              "                     name  ... address.country\n",
              "0  Imperador dos Camarões  ...          Brasil\n",
              "1         Guacamole Natal  ...          Brasil\n",
              "2           Chica Pitanga  ...          Brasil\n",
              "3       Sorvetes Vi Sabor  ...          Brasil\n",
              "4    Z Deli Sandwich Shop  ...          Brasil\n",
              "\n",
              "[5 rows x 10 columns]"
            ]
          },
          "metadata": {
            "tags": []
          },
          "execution_count": 137
        }
      ]
    },
    {
      "cell_type": "markdown",
      "metadata": {
        "id": "hIT4dOvpLQIz"
      },
      "source": [
        "Processamento dos dados contidos no campo **itemReviewed**"
      ]
    },
    {
      "cell_type": "code",
      "metadata": {
        "colab": {
          "base_uri": "https://localhost:8080/"
        },
        "id": "9h_7bdG2KGWx",
        "outputId": "9fb7f74e-b5f0-4552-b402-2c204f4e2dce"
      },
      "source": [
        "df[\"hasEmail\"] = item_reviewed[\"email\"].apply(lambda value: \n",
        "                                                      \"True\" if value != \"None\" else \"False\")\n",
        "\n",
        "df[\"hasEmail\"].fillna(\"no\")"
      ],
      "execution_count": 138,
      "outputs": [
        {
          "output_type": "execute_result",
          "data": {
            "text/plain": [
              "0         True\n",
              "1         True\n",
              "2         True\n",
              "3        False\n",
              "4        False\n",
              "         ...  \n",
              "99995     True\n",
              "99996    False\n",
              "99997     True\n",
              "99998     True\n",
              "99999       no\n",
              "Name: hasEmail, Length: 99999, dtype: object"
            ]
          },
          "metadata": {
            "tags": []
          },
          "execution_count": 138
        }
      ]
    },
    {
      "cell_type": "markdown",
      "metadata": {
        "id": "roQgGSovPBiY"
      },
      "source": [
        ""
      ]
    },
    {
      "cell_type": "code",
      "metadata": {
        "colab": {
          "base_uri": "https://localhost:8080/"
        },
        "id": "BKmgGbFvO-8J",
        "outputId": "bd7e5e25-de68-4fb3-ad0a-a9e8a8c3c0dd"
      },
      "source": [
        "df[\"hasPhone\"] = item_reviewed[\"phoneNumber\"].apply(lambda value: \n",
        "                                                      \"True\" if value != \"None\" else \"False\")\n",
        "\n",
        "df[\"hasPhone\"].fillna(\"no\")"
      ],
      "execution_count": 139,
      "outputs": [
        {
          "output_type": "execute_result",
          "data": {
            "text/plain": [
              "0         True\n",
              "1         True\n",
              "2         True\n",
              "3        False\n",
              "4         True\n",
              "         ...  \n",
              "99995     True\n",
              "99996     True\n",
              "99997     True\n",
              "99998     True\n",
              "99999       no\n",
              "Name: hasPhone, Length: 99999, dtype: object"
            ]
          },
          "metadata": {
            "tags": []
          },
          "execution_count": 139
        }
      ]
    },
    {
      "cell_type": "code",
      "metadata": {
        "colab": {
          "base_uri": "https://localhost:8080/",
          "height": 289
        },
        "id": "nAVtI9i4RVrR",
        "outputId": "8f9eadce-9ec4-4202-c4e4-990361a83752"
      },
      "source": [
        "df.head()"
      ],
      "execution_count": 140,
      "outputs": [
        {
          "output_type": "execute_result",
          "data": {
            "text/html": [
              "<div>\n",
              "<style scoped>\n",
              "    .dataframe tbody tr th:only-of-type {\n",
              "        vertical-align: middle;\n",
              "    }\n",
              "\n",
              "    .dataframe tbody tr th {\n",
              "        vertical-align: top;\n",
              "    }\n",
              "\n",
              "    .dataframe thead th {\n",
              "        text-align: right;\n",
              "    }\n",
              "</style>\n",
              "<table border=\"1\" class=\"dataframe\">\n",
              "  <thead>\n",
              "    <tr style=\"text-align: right;\">\n",
              "      <th></th>\n",
              "      <th>title</th>\n",
              "      <th>reviewBody</th>\n",
              "      <th>language</th>\n",
              "      <th>mobileDevice</th>\n",
              "      <th>publicationDate</th>\n",
              "      <th>ratingValue</th>\n",
              "      <th>itemReviewed</th>\n",
              "      <th>userCity</th>\n",
              "      <th>userState</th>\n",
              "      <th>hasEmail</th>\n",
              "      <th>hasPhone</th>\n",
              "    </tr>\n",
              "  </thead>\n",
              "  <tbody>\n",
              "    <tr>\n",
              "      <th>0</th>\n",
              "      <td>Jantar</td>\n",
              "      <td>Comida maravilhosa, lugar do verdadeiro chicle...</td>\n",
              "      <td>pt</td>\n",
              "      <td>True</td>\n",
              "      <td>26/07/2019</td>\n",
              "      <td>5</td>\n",
              "      <td>{'name': 'Imperador dos Camarões', 'address': ...</td>\n",
              "      <td>São Carlos</td>\n",
              "      <td>SP</td>\n",
              "      <td>True</td>\n",
              "      <td>True</td>\n",
              "    </tr>\n",
              "    <tr>\n",
              "      <th>1</th>\n",
              "      <td>Uma boa experiência.</td>\n",
              "      <td>Comida boa, drinks legais e um ambiente bem ac...</td>\n",
              "      <td>pt</td>\n",
              "      <td>True</td>\n",
              "      <td>16/09/2014</td>\n",
              "      <td>4</td>\n",
              "      <td>{'name': 'Guacamole Natal', 'address': {'stree...</td>\n",
              "      <td>Manaus</td>\n",
              "      <td>AM</td>\n",
              "      <td>True</td>\n",
              "      <td>True</td>\n",
              "    </tr>\n",
              "    <tr>\n",
              "      <th>2</th>\n",
              "      <td>Otimo self service</td>\n",
              "      <td>Excelente pra ir com a família! Ótima Comida, ...</td>\n",
              "      <td>pt</td>\n",
              "      <td>True</td>\n",
              "      <td>04/06/2019</td>\n",
              "      <td>4</td>\n",
              "      <td>{'name': 'Chica Pitanga', 'address': {'streetA...</td>\n",
              "      <td>Goiânia</td>\n",
              "      <td>GO</td>\n",
              "      <td>True</td>\n",
              "      <td>True</td>\n",
              "    </tr>\n",
              "    <tr>\n",
              "      <th>3</th>\n",
              "      <td>O sorvete mais tradicional do estado</td>\n",
              "      <td>Tomo sorvete na Visabor faz mais de 30 anos. S...</td>\n",
              "      <td>pt</td>\n",
              "      <td>False</td>\n",
              "      <td>15/03/2016</td>\n",
              "      <td>5</td>\n",
              "      <td>{'name': 'Sorvetes Vi Sabor', 'address': {'str...</td>\n",
              "      <td>Aracaju</td>\n",
              "      <td>SE</td>\n",
              "      <td>False</td>\n",
              "      <td>False</td>\n",
              "    </tr>\n",
              "    <tr>\n",
              "      <th>4</th>\n",
              "      <td>Melhor hamburger!</td>\n",
              "      <td>O melhor hamburger que já comi! Excelente aten...</td>\n",
              "      <td>pt</td>\n",
              "      <td>False</td>\n",
              "      <td>28/04/2015</td>\n",
              "      <td>5</td>\n",
              "      <td>{'name': 'Z Deli Sandwich Shop', 'address': {'...</td>\n",
              "      <td>Rio de Janeiro</td>\n",
              "      <td>RJ</td>\n",
              "      <td>False</td>\n",
              "      <td>True</td>\n",
              "    </tr>\n",
              "  </tbody>\n",
              "</table>\n",
              "</div>"
            ],
            "text/plain": [
              "                                  title  ... hasPhone\n",
              "0                               Jantar   ...     True\n",
              "1                  Uma boa experiência.  ...     True\n",
              "2                    Otimo self service  ...     True\n",
              "3  O sorvete mais tradicional do estado  ...    False\n",
              "4                     Melhor hamburger!  ...     True\n",
              "\n",
              "[5 rows x 11 columns]"
            ]
          },
          "metadata": {
            "tags": []
          },
          "execution_count": 140
        }
      ]
    },
    {
      "cell_type": "code",
      "metadata": {
        "colab": {
          "base_uri": "https://localhost:8080/"
        },
        "id": "G4QB_d11mMQe",
        "outputId": "e5e414f3-4338-4740-cde3-9a52108a4a59"
      },
      "source": [
        "item_reviewed[\"address.streetAddress\"].isna().sum()"
      ],
      "execution_count": 141,
      "outputs": [
        {
          "output_type": "execute_result",
          "data": {
            "text/plain": [
              "0"
            ]
          },
          "metadata": {
            "tags": []
          },
          "execution_count": 141
        }
      ]
    },
    {
      "cell_type": "markdown",
      "metadata": {
        "id": "CuHcyCsUkvS_"
      },
      "source": [
        "# Visão Geral dos Dados"
      ]
    },
    {
      "cell_type": "markdown",
      "metadata": {
        "id": "kwNrK5fDlUzb"
      },
      "source": [
        "## Distribuição de frequência baseado nas avaliações"
      ]
    },
    {
      "cell_type": "code",
      "metadata": {
        "colab": {
          "base_uri": "https://localhost:8080/",
          "height": 407
        },
        "id": "Cn-WWv80tr0M",
        "outputId": "cd6bafc4-fbb2-49a8-8361-f742eea1ac22"
      },
      "source": [
        "labels = df['ratingValue'].unique()\n",
        "rating_percent = df['ratingValue'].value_counts(normalize=True) * 100\n",
        "explode = (0.05, 0, 0, 0, 0)\n",
        "\n",
        "fig, ax = plt.subplots(figsize=(8,6))\n",
        "ax.pie(rating_percent, explode=explode, labels=labels, autopct='%1.1f%%',\n",
        "        shadow=True)\n",
        "ax.axis('equal')\n",
        "\n",
        "plt.title('Distribuição de frequência das avaliações', pad=40)\n",
        "ax.legend(labels, loc='lower right', title='Notas')\n",
        "\n",
        "plt.show()"
      ],
      "execution_count": 142,
      "outputs": [
        {
          "output_type": "display_data",
          "data": {
            "image/png": "[encoded data removed]",
            "text/plain": [
              "<Figure size 576x432 with 1 Axes>"
            ]
          },
          "metadata": {
            "tags": []
          }
        }
      ]
    },
    {
      "cell_type": "markdown",
      "metadata": {
        "id": "-sweQWEc-E0C"
      },
      "source": [
        "A avaliação com nota 5 possui a maior frequência dentro do conjunto de dados, enquanto a com nota 2 são as menos frequentes. Dado o gráfico, é possível afirmar que os dados estão desbalanceados pois 51.2% deste conjunto de dados pertencem à avaliação com nota 5, enquanto as outras quatros notas juntas representam o restante dos dados.\n",
        "\n",
        "\n",
        "\n"
      ]
    },
    {
      "cell_type": "markdown",
      "metadata": {
        "id": "RlxWXM4F-GpE"
      },
      "source": [
        "## Distribuição das avaliações por diferentes dispositivos"
      ]
    },
    {
      "cell_type": "code",
      "metadata": {
        "colab": {
          "base_uri": "https://localhost:8080/",
          "height": 510
        },
        "id": "bcAy9_tF-Fyo",
        "outputId": "7d863646-ce98-4901-e3a5-35acc5b5ffc5"
      },
      "source": [
        "def get_rating_value_devices():\n",
        "  devices = []\n",
        "  for i in range (1,6):\n",
        "    devices.append(df[df['ratingValue'] == str(i)]['mobileDevice'].value_counts(normalize=True, sort=False) * 100)\n",
        "  return devices\n",
        "\n",
        "devices = get_rating_value_devices() \n",
        "\n",
        "fig = plt.figure(figsize=(8,6))\n",
        "ax = fig.add_axes([0,0,1,1])\n",
        "\n",
        "X = np.arange(1,6)\n",
        "ax.bar(X, [device[0] for device in devices], color='c', width = 0.25)\n",
        "ax.bar(X+0.25, [device[1] for device in devices], color='y', width = 0.25)\n",
        "\n",
        "plt.xlabel('Devices')\n",
        "plt.ylabel('Percentage %')\n",
        "plt.title('Distribuição das avaliações por diferentes dispositivos')\n",
        "plt.legend(['Other devices', 'Mobile'])\n",
        "\n",
        "plt.show()"
      ],
      "execution_count": 231,
      "outputs": [
        {
          "output_type": "display_data",
          "data": {
            "image/png": "[encoded data removed]",
            "text/plain": [
              "<Figure size 576x432 with 1 Axes>"
            ]
          },
          "metadata": {
            "tags": [],
            "needs_background": "light"
          }
        }
      ]
    },
    {
      "cell_type": "markdown",
      "metadata": {
        "id": "vVNb8EuJ8LWW"
      },
      "source": [
        "Através do gráfico de barras acima, percebe-se que existe uma diferença de frequência entre dispositivos em relação as notas das avaliações. As notas de avaliações **1** e **2**, possuem as menores frequências de críticas realizadas em outros dispositivos e as maiores frequências realizadas em mobile, pode-se concluir que pessoas insatisfeitas com o restaurante, em sua maioria, possuem o interesse de realizar a crítica o quanto antes, dado isso a plataforma mais acessível seria a mobile."
      ]
    },
    {
      "cell_type": "code",
      "metadata": {
        "id": "UPCXgEwiWq99"
      },
      "source": [
        ""
      ],
      "execution_count": null,
      "outputs": []
    }
  ]
}