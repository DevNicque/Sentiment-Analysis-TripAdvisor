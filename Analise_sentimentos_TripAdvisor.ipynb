{
  "nbformat": 4,
  "nbformat_minor": 0,
  "metadata": {
    "colab": {
      "name": "Analise-sentimentos-TripAdvisor.ipynb",
      "provenance": [],
      "collapsed_sections": [],
      "include_colab_link": true
    },
    "kernelspec": {
      "display_name": "Python 3",
      "name": "python3"
    }
  },
  "cells": [
    {
      "cell_type": "markdown",
      "metadata": {
        "id": "view-in-github",
        "colab_type": "text"
      },
      "source": [
        "<a href=\"https://colab.research.google.com/github/kidkmon/Sentiment-Analysis-TripAdvisor/blob/main/Analise_sentimentos_TripAdvisor.ipynb\" target=\"_parent\"><img src=\"https://colab.research.google.com/assets/colab-badge.svg\" alt=\"Open In Colab\"/></a>"
      ]
    },
    {
      "cell_type": "markdown",
      "metadata": {
        "id": "HW1QrJad-LVe"
      },
      "source": [
        "# Configurações"
      ]
    },
    {
      "cell_type": "code",
      "metadata": {
        "id": "zjJOS9uHPyp4"
      },
      "source": [
        "from google.colab import drive # monta ambiente para salvar dados gerados no notebook\n",
        "\n",
        "import pandas as pd # biblioteca para processamento dos dados\n",
        "import numpy as np # biblioteca de algebra linear\n",
        "\n",
        "import urllib.request # biblioteca que trabalha com requisições HTTP\n",
        "import json\n",
        "\n",
        "import requests"
      ],
      "execution_count": null,
      "outputs": []
    },
    {
      "cell_type": "code",
      "metadata": {
        "colab": {
          "base_uri": "https://localhost:8080/"
        },
        "id": "jlwf6ZZf_81R",
        "outputId": "60165af0-af18-47aa-ec90-adead43e0222"
      },
      "source": [
        "# Versão das bibliotecas utilizadas\n",
        "\n",
        "!python --version\n",
        "print(\"Pandas\", pd.__version__)\n",
        "print(\"Numpy\", np.__version__)\n"
      ],
      "execution_count": null,
      "outputs": [
        {
          "output_type": "stream",
          "text": [
            "Python 3.6.9\n",
            "Pandas 1.1.4\n",
            "Numpy 1.18.5\n"
          ],
          "name": "stdout"
        }
      ]
    },
    {
      "cell_type": "code",
      "metadata": {
        "id": "9HHmBOam-2TE"
      },
      "source": [
        "def load_data(url, encoding=\"utf-8\"):\n",
        "  header = ['title', 'reviewId', 'restaurantId', 'author', 'reviewBody', 'language', 'mobileDevice', 'userLocation', 'publicationDate', 'visitDate', 'ratingValue', 'itemReviewed', 'website', 'email', 'phoneNumber', 'averageRating']\n",
        "\n",
        "  dat_file = urllib.request.urlopen(url)\n",
        "\n",
        "  json_format_file = [json.loads(line) for line in dat_file]\n",
        "\n",
        "  df = pd.DataFrame(json_format_file)\n",
        "\n",
        "  df[\"website\"] = [row[\"website\"] for row in df[\"itemReviewed\"]]\n",
        "  df[\"email\"] = [row[\"email\"] for row in df[\"itemReviewed\"]]\n",
        "  df[\"phoneNumber\"] = [row[\"phoneNumber\"] for row in df[\"itemReviewed\"]]\n",
        "  df[\"averageRating\"] = [row[\"averageRating\"] for row in df[\"itemReviewed\"]]\n",
        "\n",
        "  return df"
      ],
      "execution_count": null,
      "outputs": []
    },
    {
      "cell_type": "code",
      "metadata": {
        "id": "03cN_LQA-IZw"
      },
      "source": [
        "df = load_data(url=\"http://tiagodemelo.info/datasets/dataset-v2.dat\")"
      ],
      "execution_count": null,
      "outputs": []
    },
    {
      "cell_type": "code",
      "metadata": {
        "colab": {
          "base_uri": "https://localhost:8080/",
          "height": 547
        },
        "id": "JJP-EKiAHQYs",
        "outputId": "bc433467-0842-4475-e1d4-ead3e8e2af3a"
      },
      "source": [
        "df.head()"
      ],
      "execution_count": null,
      "outputs": [
        {
          "output_type": "execute_result",
          "data": {
            "text/html": [
              "<div>\n",
              "<style scoped>\n",
              "    .dataframe tbody tr th:only-of-type {\n",
              "        vertical-align: middle;\n",
              "    }\n",
              "\n",
              "    .dataframe tbody tr th {\n",
              "        vertical-align: top;\n",
              "    }\n",
              "\n",
              "    .dataframe thead th {\n",
              "        text-align: right;\n",
              "    }\n",
              "</style>\n",
              "<table border=\"1\" class=\"dataframe\">\n",
              "  <thead>\n",
              "    <tr style=\"text-align: right;\">\n",
              "      <th></th>\n",
              "      <th>title</th>\n",
              "      <th>reviewId</th>\n",
              "      <th>restaurantId</th>\n",
              "      <th>author</th>\n",
              "      <th>reviewBody</th>\n",
              "      <th>language</th>\n",
              "      <th>mobileDevice</th>\n",
              "      <th>userLocation</th>\n",
              "      <th>publicationDate</th>\n",
              "      <th>visitDate</th>\n",
              "      <th>ratingValue</th>\n",
              "      <th>itemReviewed</th>\n",
              "      <th>website</th>\n",
              "      <th>email</th>\n",
              "      <th>phoneNumber</th>\n",
              "      <th>averageRating</th>\n",
              "    </tr>\n",
              "  </thead>\n",
              "  <tbody>\n",
              "    <tr>\n",
              "      <th>0</th>\n",
              "      <td>Jantar</td>\n",
              "      <td>692856288</td>\n",
              "      <td>2344932</td>\n",
              "      <td>larinhavercosa222</td>\n",
              "      <td>Comida maravilhosa, lugar do verdadeiro chicle...</td>\n",
              "      <td>pt</td>\n",
              "      <td>True</td>\n",
              "      <td>São Carlos, SP</td>\n",
              "      <td>26/07/2019</td>\n",
              "      <td>07/2019</td>\n",
              "      <td>5</td>\n",
              "      <td>{'name': 'Imperador dos Camarões', 'address': ...</td>\n",
              "      <td>http://www.imperadordoscamaroes.com.br</td>\n",
              "      <td>contato@imperadordoscamaroes.com.br</td>\n",
              "      <td>+55 82 3231-4134</td>\n",
              "      <td>4.5</td>\n",
              "    </tr>\n",
              "    <tr>\n",
              "      <th>1</th>\n",
              "      <td>Uma boa experiência.</td>\n",
              "      <td>229208487</td>\n",
              "      <td>3720906</td>\n",
              "      <td>Pano P</td>\n",
              "      <td>Comida boa, drinks legais e um ambiente bem ac...</td>\n",
              "      <td>pt</td>\n",
              "      <td>True</td>\n",
              "      <td>Manaus, AM</td>\n",
              "      <td>16/09/2014</td>\n",
              "      <td>None</td>\n",
              "      <td>4</td>\n",
              "      <td>{'name': 'Guacamole Natal', 'address': {'stree...</td>\n",
              "      <td>http://www.facebook.com/GuacamoleNatal</td>\n",
              "      <td>guacamolenatal@gmail.com</td>\n",
              "      <td>+55 84 3219-3646</td>\n",
              "      <td>4.5</td>\n",
              "    </tr>\n",
              "    <tr>\n",
              "      <th>2</th>\n",
              "      <td>Otimo self service</td>\n",
              "      <td>679002332</td>\n",
              "      <td>2248105</td>\n",
              "      <td>Magma100</td>\n",
              "      <td>Excelente pra ir com a família! Ótima Comida, ...</td>\n",
              "      <td>pt</td>\n",
              "      <td>True</td>\n",
              "      <td>Goiânia, GO</td>\n",
              "      <td>04/06/2019</td>\n",
              "      <td>07/2018</td>\n",
              "      <td>4</td>\n",
              "      <td>{'name': 'Chica Pitanga', 'address': {'streetA...</td>\n",
              "      <td>http://www.chicapitanga.com.br</td>\n",
              "      <td>chicapitanga@chicapitanga.com.br</td>\n",
              "      <td>+55 81 3334-8260</td>\n",
              "      <td>4.5</td>\n",
              "    </tr>\n",
              "    <tr>\n",
              "      <th>3</th>\n",
              "      <td>O sorvete mais tradicional do estado</td>\n",
              "      <td>355671519</td>\n",
              "      <td>8168302</td>\n",
              "      <td>Yurie M</td>\n",
              "      <td>Tomo sorvete na Visabor faz mais de 30 anos. S...</td>\n",
              "      <td>pt</td>\n",
              "      <td>False</td>\n",
              "      <td>Aracaju, SE</td>\n",
              "      <td>15/03/2016</td>\n",
              "      <td>01/2016</td>\n",
              "      <td>5</td>\n",
              "      <td>{'name': 'Sorvetes Vi Sabor', 'address': {'str...</td>\n",
              "      <td>None</td>\n",
              "      <td>None</td>\n",
              "      <td>None</td>\n",
              "      <td>4.0</td>\n",
              "    </tr>\n",
              "    <tr>\n",
              "      <th>4</th>\n",
              "      <td>Melhor hamburger!</td>\n",
              "      <td>268741921</td>\n",
              "      <td>5395141</td>\n",
              "      <td>Debora_C85</td>\n",
              "      <td>O melhor hamburger que já comi! Excelente aten...</td>\n",
              "      <td>pt</td>\n",
              "      <td>False</td>\n",
              "      <td>Rio de Janeiro, RJ</td>\n",
              "      <td>28/04/2015</td>\n",
              "      <td>04/2015</td>\n",
              "      <td>5</td>\n",
              "      <td>{'name': 'Z Deli Sandwich Shop', 'address': {'...</td>\n",
              "      <td>http://www.facebook.com/zdelisandwichshop/</td>\n",
              "      <td>None</td>\n",
              "      <td>551130830021</td>\n",
              "      <td>4.5</td>\n",
              "    </tr>\n",
              "  </tbody>\n",
              "</table>\n",
              "</div>"
            ],
            "text/plain": [
              "                                  title  ... averageRating\n",
              "0                               Jantar   ...           4.5\n",
              "1                  Uma boa experiência.  ...           4.5\n",
              "2                    Otimo self service  ...           4.5\n",
              "3  O sorvete mais tradicional do estado  ...           4.0\n",
              "4                     Melhor hamburger!  ...           4.5\n",
              "\n",
              "[5 rows x 16 columns]"
            ]
          },
          "metadata": {
            "tags": []
          },
          "execution_count": 77
        }
      ]
    },
    {
      "cell_type": "code",
      "metadata": {
        "id": "VG5luGHoJFvw"
      },
      "source": [
        ""
      ],
      "execution_count": null,
      "outputs": []
    }
  ]
}